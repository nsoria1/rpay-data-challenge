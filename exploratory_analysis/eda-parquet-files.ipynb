{
 "cells": [
  {
   "cell_type": "markdown",
   "id": "db2bfb1d",
   "metadata": {},
   "source": [
    "## Basic exploratory analysis on the parquet files"
   ]
  },
  {
   "cell_type": "markdown",
   "id": "16ead478",
   "metadata": {},
   "source": [
    "### Use pyarrow and pandas to read the parquet files to understand what kind of information we're getting"
   ]
  },
  {
   "cell_type": "code",
   "execution_count": 1,
   "id": "57ad8a85",
   "metadata": {},
   "outputs": [],
   "source": [
    "import pandas as pd\n",
    "import pyarrow.dataset as ds"
   ]
  },
  {
   "cell_type": "code",
   "execution_count": 2,
   "id": "f6c8640c",
   "metadata": {},
   "outputs": [],
   "source": [
    "dataset = ds.dataset(\"../data/input\", format=\"parquet\")\n",
    "df = dataset.to_table().to_pandas()"
   ]
  },
  {
   "cell_type": "code",
   "execution_count": 3,
   "id": "1c4390fd",
   "metadata": {},
   "outputs": [
    {
     "data": {
      "text/html": [
       "<div>\n",
       "<style scoped>\n",
       "    .dataframe tbody tr th:only-of-type {\n",
       "        vertical-align: middle;\n",
       "    }\n",
       "\n",
       "    .dataframe tbody tr th {\n",
       "        vertical-align: top;\n",
       "    }\n",
       "\n",
       "    .dataframe thead th {\n",
       "        text-align: right;\n",
       "    }\n",
       "</style>\n",
       "<table border=\"1\" class=\"dataframe\">\n",
       "  <thead>\n",
       "    <tr style=\"text-align: right;\">\n",
       "      <th></th>\n",
       "      <th>event_time</th>\n",
       "      <th>user_id</th>\n",
       "      <th>account_id</th>\n",
       "      <th>amount</th>\n",
       "      <th>transaction_type</th>\n",
       "      <th>cdc_operation</th>\n",
       "      <th>cdc_sequence_num</th>\n",
       "      <th>source_system</th>\n",
       "    </tr>\n",
       "  </thead>\n",
       "  <tbody>\n",
       "    <tr>\n",
       "      <th>0</th>\n",
       "      <td>2024-08-03 04:52:37.668</td>\n",
       "      <td>0800b8e0-c3f5-5fe8-bcbc-1fcbb35ca9d0</td>\n",
       "      <td>eefbde26-aecf-5fff-a516-7ceb79b36bf1</td>\n",
       "      <td>-137.66</td>\n",
       "      <td>WITHDRAWAL</td>\n",
       "      <td>insert</td>\n",
       "      <td>2982801</td>\n",
       "      <td>wallet_service</td>\n",
       "    </tr>\n",
       "    <tr>\n",
       "      <th>1</th>\n",
       "      <td>2024-08-03 04:52:40.686</td>\n",
       "      <td>4fd493ab-b3a8-595e-8b58-c46c8ff971e5</td>\n",
       "      <td>55af41da-ab21-5677-9342-4fe065e2ce2a</td>\n",
       "      <td>-144.68</td>\n",
       "      <td>WITHDRAWAL</td>\n",
       "      <td>insert</td>\n",
       "      <td>2982802</td>\n",
       "      <td>wallet_service</td>\n",
       "    </tr>\n",
       "    <tr>\n",
       "      <th>2</th>\n",
       "      <td>2024-08-03 04:52:43.838</td>\n",
       "      <td>ec573bb7-807e-573d-a0e2-07e19de1c034</td>\n",
       "      <td>6e7a4987-a3ca-552f-9cfa-1eefb7de4cf2</td>\n",
       "      <td>-65.67</td>\n",
       "      <td>TRANSFER_OUT</td>\n",
       "      <td>insert</td>\n",
       "      <td>2982803</td>\n",
       "      <td>wallet_service</td>\n",
       "    </tr>\n",
       "    <tr>\n",
       "      <th>3</th>\n",
       "      <td>2024-08-03 04:52:48.265</td>\n",
       "      <td>e061df1c-75df-56d7-b7de-5bd698033aab</td>\n",
       "      <td>2d60329f-624c-5a93-964c-6faef2b734bb</td>\n",
       "      <td>152.91</td>\n",
       "      <td>TRANSFER_IN</td>\n",
       "      <td>insert</td>\n",
       "      <td>2982804</td>\n",
       "      <td>wallet_service</td>\n",
       "    </tr>\n",
       "    <tr>\n",
       "      <th>4</th>\n",
       "      <td>2024-08-03 04:52:50.621</td>\n",
       "      <td>97bf868b-3748-5aa8-933c-5bf72705aec4</td>\n",
       "      <td>49f6bdd0-6b70-5d1f-97a8-77c27a937dd8</td>\n",
       "      <td>861.01</td>\n",
       "      <td>TRANSFER_IN</td>\n",
       "      <td>insert</td>\n",
       "      <td>2982805</td>\n",
       "      <td>wallet_service</td>\n",
       "    </tr>\n",
       "  </tbody>\n",
       "</table>\n",
       "</div>"
      ],
      "text/plain": [
       "               event_time                               user_id  \\\n",
       "0 2024-08-03 04:52:37.668  0800b8e0-c3f5-5fe8-bcbc-1fcbb35ca9d0   \n",
       "1 2024-08-03 04:52:40.686  4fd493ab-b3a8-595e-8b58-c46c8ff971e5   \n",
       "2 2024-08-03 04:52:43.838  ec573bb7-807e-573d-a0e2-07e19de1c034   \n",
       "3 2024-08-03 04:52:48.265  e061df1c-75df-56d7-b7de-5bd698033aab   \n",
       "4 2024-08-03 04:52:50.621  97bf868b-3748-5aa8-933c-5bf72705aec4   \n",
       "\n",
       "                             account_id   amount transaction_type  \\\n",
       "0  eefbde26-aecf-5fff-a516-7ceb79b36bf1  -137.66       WITHDRAWAL   \n",
       "1  55af41da-ab21-5677-9342-4fe065e2ce2a  -144.68       WITHDRAWAL   \n",
       "2  6e7a4987-a3ca-552f-9cfa-1eefb7de4cf2   -65.67     TRANSFER_OUT   \n",
       "3  2d60329f-624c-5a93-964c-6faef2b734bb   152.91      TRANSFER_IN   \n",
       "4  49f6bdd0-6b70-5d1f-97a8-77c27a937dd8   861.01      TRANSFER_IN   \n",
       "\n",
       "  cdc_operation  cdc_sequence_num   source_system  \n",
       "0        insert           2982801  wallet_service  \n",
       "1        insert           2982802  wallet_service  \n",
       "2        insert           2982803  wallet_service  \n",
       "3        insert           2982804  wallet_service  \n",
       "4        insert           2982805  wallet_service  "
      ]
     },
     "execution_count": 3,
     "metadata": {},
     "output_type": "execute_result"
    }
   ],
   "source": [
    "df.head()"
   ]
  },
  {
   "cell_type": "markdown",
   "id": "2ff17b0a",
   "metadata": {},
   "source": [
    "### Running some checks on the data"
   ]
  },
  {
   "cell_type": "code",
   "execution_count": 4,
   "id": "d47cf021",
   "metadata": {},
   "outputs": [
    {
     "name": "stdout",
     "output_type": "stream",
     "text": [
      "Total rows: 5023665\n"
     ]
    }
   ],
   "source": [
    "# Row count\n",
    "row_count = len(df)\n",
    "print(f\"Total rows: {row_count}\")"
   ]
  },
  {
   "cell_type": "code",
   "execution_count": 5,
   "id": "7c93609f",
   "metadata": {},
   "outputs": [
    {
     "name": "stdout",
     "output_type": "stream",
     "text": [
      "Nulls per column:\n",
      "event_time          0\n",
      "user_id             0\n",
      "account_id          0\n",
      "amount              0\n",
      "transaction_type    0\n",
      "cdc_operation       0\n",
      "cdc_sequence_num    0\n",
      "source_system       0\n",
      "dtype: int64\n"
     ]
    }
   ],
   "source": [
    "# Null value check\n",
    "null_counts = df.isnull().sum()\n",
    "print(\"Nulls per column:\")\n",
    "print(null_counts)"
   ]
  },
  {
   "cell_type": "code",
   "execution_count": 6,
   "id": "52aa7249",
   "metadata": {},
   "outputs": [
    {
     "name": "stdout",
     "output_type": "stream",
     "text": [
      "Counts by transaction_type:\n",
      "  transaction_type    count\n",
      "0          DEPOSIT   841880\n",
      "1      TRANSFER_IN  1710624\n",
      "2     TRANSFER_OUT  1633064\n",
      "3   WALLET_CREATED    23665\n",
      "4       WITHDRAWAL   814432\n"
     ]
    }
   ],
   "source": [
    "# transaction_type\n",
    "tx_counts = df.groupby(\"transaction_type\").size().reset_index(name=\"count\")\n",
    "print(\"Counts by transaction_type:\")\n",
    "print(tx_counts)"
   ]
  },
  {
   "cell_type": "code",
   "execution_count": 7,
   "id": "b0ecb25d",
   "metadata": {},
   "outputs": [
    {
     "name": "stdout",
     "output_type": "stream",
     "text": [
      "Counts by cdc_operation:\n",
      "  cdc_operation    count\n",
      "0        insert  5023665\n"
     ]
    }
   ],
   "source": [
    "# cdc_operation\n",
    "cdc_counts = df.groupby(\"cdc_operation\").size().reset_index(name=\"count\")\n",
    "print(\"Counts by cdc_operation:\")\n",
    "print(cdc_counts)"
   ]
  },
  {
   "cell_type": "code",
   "execution_count": 8,
   "id": "c37ff09b",
   "metadata": {},
   "outputs": [
    {
     "name": "stdout",
     "output_type": "stream",
     "text": [
      "Counts by source_system:\n",
      "    source_system    count\n",
      "0  wallet_service  5023665\n"
     ]
    }
   ],
   "source": [
    "# source_system\n",
    "src_counts = df.groupby(\"source_system\").size().reset_index(name=\"count\")\n",
    "print(\"Counts by source_system:\")\n",
    "print(src_counts)"
   ]
  },
  {
   "cell_type": "code",
   "execution_count": 9,
   "id": "1d488855",
   "metadata": {},
   "outputs": [],
   "source": [
    "# format the timestamp field\n",
    "df['event_time'] = pd.to_datetime(df['event_time'])\n",
    "df['event_date'] = df['event_time'].dt.date"
   ]
  },
  {
   "cell_type": "code",
   "execution_count": 10,
   "id": "db8cad7c",
   "metadata": {},
   "outputs": [
    {
     "name": "stdout",
     "output_type": "stream",
     "text": [
      "     event_date  count\n",
      "0    2024-05-01  39746\n",
      "1    2024-05-02  33577\n",
      "2    2024-05-03  32794\n",
      "3    2024-05-04  32105\n",
      "4    2024-05-05  32213\n",
      "..          ...    ...\n",
      "155  2024-10-03  31514\n",
      "156  2024-10-04  31344\n",
      "157  2024-10-05  31451\n",
      "158  2024-10-06  31541\n",
      "159  2024-10-07   2632\n",
      "\n",
      "[160 rows x 2 columns]\n"
     ]
    }
   ],
   "source": [
    "# group by that date and count\n",
    "daily_counts = (\n",
    "    df\n",
    "    .groupby('event_date')\n",
    "    .size()\n",
    "    .reset_index(name='count')\n",
    "    .sort_values('event_date')\n",
    ")\n",
    "print(daily_counts)"
   ]
  },
  {
   "cell_type": "code",
   "execution_count": 11,
   "id": "1a69cd69",
   "metadata": {},
   "outputs": [
    {
     "name": "stdout",
     "output_type": "stream",
     "text": [
      "<class 'pandas.core.frame.DataFrame'>\n",
      "RangeIndex: 5023665 entries, 0 to 5023664\n",
      "Data columns (total 9 columns):\n",
      " #   Column            Dtype         \n",
      "---  ------            -----         \n",
      " 0   event_time        datetime64[ns]\n",
      " 1   user_id           object        \n",
      " 2   account_id        object        \n",
      " 3   amount            object        \n",
      " 4   transaction_type  object        \n",
      " 5   cdc_operation     object        \n",
      " 6   cdc_sequence_num  int64         \n",
      " 7   source_system     object        \n",
      " 8   event_date        object        \n",
      "dtypes: datetime64[ns](1), int64(1), object(7)\n",
      "memory usage: 344.9+ MB\n"
     ]
    }
   ],
   "source": [
    "# List all the fields from the dataframe\n",
    "df.info()"
   ]
  }
 ],
 "metadata": {
  "kernelspec": {
   "display_name": ".venv",
   "language": "python",
   "name": "python3"
  },
  "language_info": {
   "codemirror_mode": {
    "name": "ipython",
    "version": 3
   },
   "file_extension": ".py",
   "mimetype": "text/x-python",
   "name": "python",
   "nbconvert_exporter": "python",
   "pygments_lexer": "ipython3",
   "version": "3.13.3"
  }
 },
 "nbformat": 4,
 "nbformat_minor": 5
}
